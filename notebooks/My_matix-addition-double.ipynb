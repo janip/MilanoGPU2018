{
 "cells": [
  {
   "cell_type": "code",
   "execution_count": 1,
   "metadata": {},
   "outputs": [],
   "source": [
    "%matplotlib inline"
   ]
  },
  {
   "cell_type": "code",
   "execution_count": 2,
   "metadata": {},
   "outputs": [],
   "source": [
    "import numpy as np\n",
    "import pycuda.compiler as cuda_compiler\n",
    "from pycuda.gpuarray import GPUArray\n",
    "import pycuda.driver as cuda_driver"
   ]
  },
  {
   "cell_type": "code",
   "execution_count": 3,
   "metadata": {},
   "outputs": [],
   "source": [
    "from matplotlib import pyplot as plt"
   ]
  },
  {
   "cell_type": "code",
   "execution_count": 4,
   "metadata": {},
   "outputs": [],
   "source": [
    "cuda_driver.init()"
   ]
  },
  {
   "cell_type": "code",
   "execution_count": 5,
   "metadata": {},
   "outputs": [],
   "source": [
    "cuda_device = cuda_driver.Device(0)"
   ]
  },
  {
   "cell_type": "code",
   "execution_count": 6,
   "metadata": {},
   "outputs": [
    {
     "name": "stdout",
     "output_type": "stream",
     "text": [
      "Using Tesla P100-PCIE-12GB\n"
     ]
    }
   ],
   "source": [
    "print(\"Using {:s}\".format(cuda_device.name() ))"
   ]
  },
  {
   "cell_type": "markdown",
   "metadata": {},
   "source": [
    "# My first GPU program\n",
    "I will not find $\\pi$ today."
   ]
  },
  {
   "cell_type": "code",
   "execution_count": 7,
   "metadata": {},
   "outputs": [],
   "source": [
    "context = cuda_device.make_context()"
   ]
  },
  {
   "cell_type": "code",
   "execution_count": 8,
   "metadata": {},
   "outputs": [
    {
     "name": "stdout",
     "output_type": "stream",
     "text": [
      "Memory is 11445600256 / 12790923264\n"
     ]
    }
   ],
   "source": [
    "free, total = cuda_driver.mem_get_info()\n",
    "print(\"Memory is {:d} / {:d}\".format(free, total))"
   ]
  },
  {
   "cell_type": "code",
   "execution_count": 9,
   "metadata": {},
   "outputs": [],
   "source": [
    "cuda_kernel = \"\"\"\n",
    "__global__ void addKernel(double* c, double* a, double* b, int cols, int rows) {\n",
    "    int i = blockIdx.x*blockDim.x + threadIdx.x;\n",
    "    int j = blockIdx.y*blockDim.y + threadIdx.y;\n",
    "    int k = i + j*cols;\n",
    "    if (i <cols && j<rows){\n",
    "        c[k] = a[k] + b[k];\n",
    "    }\n",
    "}\n",
    "\"\"\""
   ]
  },
  {
   "cell_type": "code",
   "execution_count": 10,
   "metadata": {},
   "outputs": [],
   "source": [
    "module = cuda_compiler.SourceModule(cuda_kernel)\n",
    "kernel = module.get_function(\"addKernel\")"
   ]
  },
  {
   "cell_type": "code",
   "execution_count": 11,
   "metadata": {},
   "outputs": [],
   "source": [
    "#?np.random.rand"
   ]
  },
  {
   "cell_type": "code",
   "execution_count": 12,
   "metadata": {},
   "outputs": [],
   "source": [
    "nx = 50\n",
    "ny = 25\n",
    "a = np.random.rand(ny,nx).astype(np.float64)\n",
    "b = np.random.rand(ny,nx).astype(np.float64)\n",
    "c = np.empty_like(a)"
   ]
  },
  {
   "cell_type": "code",
   "execution_count": 13,
   "metadata": {},
   "outputs": [],
   "source": [
    "a_gpu = GPUArray(a.shape, np.float64)\n",
    "a_gpu.set(a)"
   ]
  },
  {
   "cell_type": "code",
   "execution_count": 14,
   "metadata": {},
   "outputs": [],
   "source": [
    "b_gpu = GPUArray(b.shape, np.float64)\n",
    "b_gpu.set(b)"
   ]
  },
  {
   "cell_type": "code",
   "execution_count": 15,
   "metadata": {},
   "outputs": [],
   "source": [
    "c_gpu = GPUArray(c.shape, np.float64)"
   ]
  },
  {
   "cell_type": "markdown",
   "metadata": {},
   "source": [
    "// er int-divisjon"
   ]
  },
  {
   "cell_type": "code",
   "execution_count": 16,
   "metadata": {},
   "outputs": [
    {
     "name": "stdout",
     "output_type": "stream",
     "text": [
      "(50, 25, 1)\n",
      "(8, 4, 1)\n",
      "(7, 7, 1)\n"
     ]
    }
   ],
   "source": [
    "#block_x = 8\n",
    "#block_y = 4\n",
    "\n",
    "block = (8,4,1)\n",
    "domain = (nx, ny, 1)\n",
    "grid = ((nx+7)//8, ((ny+3)//4), 1)\n",
    "\n",
    "print(domain)\n",
    "print(block)\n",
    "print(grid)"
   ]
  },
  {
   "cell_type": "code",
   "execution_count": 17,
   "metadata": {},
   "outputs": [],
   "source": [
    "kernel(c_gpu, a_gpu, b_gpu, np.int32(nx), np.int32(ny), block=block, grid=grid)"
   ]
  },
  {
   "cell_type": "markdown",
   "metadata": {},
   "source": [
    "TODO: gjør om block og grid til matrise i stedet for array"
   ]
  },
  {
   "cell_type": "code",
   "execution_count": 18,
   "metadata": {},
   "outputs": [],
   "source": [
    "#kernel(c_gpu, a_gpu, b_gpu, block=(n, 1, 1), grid=(1,1,1))"
   ]
  },
  {
   "cell_type": "code",
   "execution_count": 19,
   "metadata": {},
   "outputs": [
    {
     "data": {
      "text/plain": [
       "array([[1.0736862 , 0.62807958, 1.49226254, ..., 1.39136255, 1.29945007,\n",
       "        0.40518129],\n",
       "       [0.82283753, 1.67340828, 1.39499866, ..., 1.04182313, 0.19277944,\n",
       "        0.89503527],\n",
       "       [0.85541324, 1.06408626, 0.49609032, ..., 1.10879344, 1.13498449,\n",
       "        1.16799553],\n",
       "       ...,\n",
       "       [1.23699884, 0.83274091, 0.61966772, ..., 1.49202753, 1.5207153 ,\n",
       "        0.85524214],\n",
       "       [0.57220792, 1.18183205, 1.2996215 , ..., 1.54878672, 0.56963721,\n",
       "        0.61107349],\n",
       "       [0.66928011, 0.71826782, 0.84950482, ..., 0.29859133, 0.69413701,\n",
       "        1.70850969]])"
      ]
     },
     "execution_count": 19,
     "metadata": {},
     "output_type": "execute_result"
    }
   ],
   "source": [
    "c_gpu.get(c)"
   ]
  },
  {
   "cell_type": "code",
   "execution_count": 21,
   "metadata": {},
   "outputs": [
    {
     "data": {
      "text/plain": [
       "<matplotlib.collections.PolyCollection at 0x7f1dd96f85f8>"
      ]
     },
     "execution_count": 21,
     "metadata": {},
     "output_type": "execute_result"
    },
    {
     "data": {
      "image/png": "[encoded data removed]",
      "text/plain": [
       "<Figure size 432x288 with 2 Axes>"
      ]
     },
     "metadata": {
      "needs_background": "light"
     },
     "output_type": "display_data"
    }
   ],
   "source": [
    "plt.subplot(1,2,1)\n",
    "plt.pcolor(c)\n",
    "plt.subplot(1,2,2)\n",
    "plt.pcolor(a+b)\n"
   ]
  },
  {
   "cell_type": "code",
   "execution_count": null,
   "metadata": {},
   "outputs": [],
   "source": []
  }
 ],
 "metadata": {
  "kernelspec": {
   "display_name": "Python 3",
   "language": "python",
   "name": "python3"
  },
  "language_info": {
   "codemirror_mode": {
    "name": "ipython",
    "version": 3
   },
   "file_extension": ".py",
   "mimetype": "text/x-python",
   "name": "python",
   "nbconvert_exporter": "python",
   "pygments_lexer": "ipython3",
   "version": "3.7.2"
  }
 },
 "nbformat": 4,
 "nbformat_minor": 2
}
