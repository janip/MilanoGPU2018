{
 "cells": [
  {
   "cell_type": "code",
   "execution_count": 1,
   "metadata": {},
   "outputs": [],
   "source": [
    "%matplotlib inline"
   ]
  },
  {
   "cell_type": "code",
   "execution_count": 4,
   "metadata": {},
   "outputs": [],
   "source": [
    "import numpy as np\n",
    "import pycuda.compiler as cuda_compiler\n",
    "from pycuda.gpuarray import GPUArray\n",
    "import pycuda.driver as cuda_driver"
   ]
  },
  {
   "cell_type": "code",
   "execution_count": 5,
   "metadata": {},
   "outputs": [],
   "source": [
    "from matplotlib import pyplot as plt"
   ]
  },
  {
   "cell_type": "code",
   "execution_count": 6,
   "metadata": {},
   "outputs": [],
   "source": [
    "cuda_driver.init()"
   ]
  },
  {
   "cell_type": "code",
   "execution_count": 7,
   "metadata": {},
   "outputs": [],
   "source": [
    "cuda_device = cuda_driver.Device(0)"
   ]
  },
  {
   "cell_type": "code",
   "execution_count": 9,
   "metadata": {},
   "outputs": [
    {
     "name": "stdout",
     "output_type": "stream",
     "text": [
      "Using Tesla P100-PCIE-12GB\n"
     ]
    }
   ],
   "source": [
    "print(\"Using {:s}\".format(cuda_device.name() ))"
   ]
  },
  {
   "cell_type": "markdown",
   "metadata": {},
   "source": [
    "# My first GPU program\n",
    "I will not find $\\pi$ today."
   ]
  },
  {
   "cell_type": "code",
   "execution_count": 11,
   "metadata": {},
   "outputs": [],
   "source": [
    "context = cuda_device.make_context()"
   ]
  },
  {
   "cell_type": "code",
   "execution_count": 12,
   "metadata": {},
   "outputs": [
    {
     "name": "stdout",
     "output_type": "stream",
     "text": [
      "Memory is 11980374016 / 12790923264\n"
     ]
    }
   ],
   "source": [
    "free, total = cuda_driver.mem_get_info()\n",
    "print(\"Memory is {:d} / {:d}\".format(free, total))"
   ]
  },
  {
   "cell_type": "code",
   "execution_count": 17,
   "metadata": {},
   "outputs": [],
   "source": [
    "cuda_kernel = \"\"\"\n",
    "__global__ void addKernel(float* c, float* a, float* b) {\n",
    "    int k = blockIdx.x*blockDim.x + threadIdx.x;\n",
    "    c[k] = a[k] + b[k];\n",
    "}\n",
    "\"\"\""
   ]
  },
  {
   "cell_type": "code",
   "execution_count": 18,
   "metadata": {},
   "outputs": [],
   "source": [
    "module = cuda_compiler.SourceModule(cuda_kernel)\n",
    "kernel = module.get_function(\"addKernel\")"
   ]
  },
  {
   "cell_type": "code",
   "execution_count": 21,
   "metadata": {},
   "outputs": [],
   "source": [
    "n = 50\n",
    "a = np.random.rand(n).astype(np.float32)\n",
    "b = np.random.rand(n).astype(np.float32)\n",
    "c = np.empty_like(a)"
   ]
  },
  {
   "cell_type": "code",
   "execution_count": 22,
   "metadata": {},
   "outputs": [],
   "source": [
    "a_gpu = GPUArray(a.shape, np.float32)\n",
    "a_gpu.set(a)"
   ]
  },
  {
   "cell_type": "code",
   "execution_count": 23,
   "metadata": {},
   "outputs": [],
   "source": [
    "b_gpu = GPUArray(b.shape, np.float32)\n",
    "b_gpu.set(b)"
   ]
  },
  {
   "cell_type": "code",
   "execution_count": 24,
   "metadata": {},
   "outputs": [],
   "source": [
    "c_gpu = GPUArray(c.shape, np.float32)"
   ]
  },
  {
   "cell_type": "code",
   "execution_count": 25,
   "metadata": {},
   "outputs": [],
   "source": [
    "kernel(c_gpu, a_gpu, b_gpu, block=(n, 1, 1), grid=(1,1,1))"
   ]
  },
  {
   "cell_type": "code",
   "execution_count": 26,
   "metadata": {},
   "outputs": [
    {
     "data": {
      "text/plain": [
       "array([0.3413515 , 0.40786475, 0.47239518, 1.2834085 , 0.63041997,\n",
       "       1.3653789 , 1.0909423 , 1.289975  , 0.6774886 , 0.8588202 ,\n",
       "       1.1895043 , 1.0908209 , 0.43083465, 0.69301724, 0.20200731,\n",
       "       0.60191673, 0.2930723 , 1.6067288 , 0.9941799 , 1.5712228 ,\n",
       "       1.1980371 , 1.5940545 , 1.652323  , 0.3536693 , 1.0304096 ,\n",
       "       0.45323846, 0.77992946, 1.3082211 , 0.7099117 , 1.7225246 ,\n",
       "       1.5245323 , 0.5284028 , 1.7836283 , 1.5086452 , 1.5064766 ,\n",
       "       0.52836347, 1.1000174 , 1.0182922 , 1.359402  , 1.7080137 ,\n",
       "       1.6668491 , 0.80925786, 0.7628979 , 1.2726548 , 1.2451205 ,\n",
       "       1.5797842 , 0.8617011 , 0.68784285, 0.6141697 , 0.48262984],\n",
       "      dtype=float32)"
      ]
     },
     "execution_count": 26,
     "metadata": {},
     "output_type": "execute_result"
    }
   ],
   "source": [
    "c_gpu.get(c)"
   ]
  },
  {
   "cell_type": "code",
   "execution_count": 27,
   "metadata": {},
   "outputs": [
    {
     "data": {
      "text/plain": [
       "[<matplotlib.lines.Line2D at 0x7fbb01e46f28>]"
      ]
     },
     "execution_count": 27,
     "metadata": {},
     "output_type": "execute_result"
    },
    {
     "data": {
      "image/png": "[encoded data removed]",
      "text/plain": [
       "<Figure size 432x288 with 1 Axes>"
      ]
     },
     "metadata": {
      "needs_background": "light"
     },
     "output_type": "display_data"
    }
   ],
   "source": [
    "plt.plot(a+b, 'k.')\n",
    "plt.plot(c, 'rx')"
   ]
  },
  {
   "cell_type": "code",
   "execution_count": null,
   "metadata": {},
   "outputs": [],
   "source": []
  }
 ],
 "metadata": {
  "kernelspec": {
   "display_name": "Python 3",
   "language": "python",
   "name": "python3"
  },
  "language_info": {
   "codemirror_mode": {
    "name": "ipython",
    "version": 3
   },
   "file_extension": ".py",
   "mimetype": "text/x-python",
   "name": "python",
   "nbconvert_exporter": "python",
   "pygments_lexer": "ipython3",
   "version": "3.7.2"
  }
 },
 "nbformat": 4,
 "nbformat_minor": 2
}
