{
 "cells": [
  {
   "cell_type": "code",
   "execution_count": 3,
   "metadata": {},
   "outputs": [],
   "source": [
    "%matplotlib inline"
   ]
  },
  {
   "cell_type": "code",
   "execution_count": 4,
   "metadata": {},
   "outputs": [],
   "source": [
    "import numpy as np\n",
    "import pycuda.compiler as cuda_compiler\n",
    "from pycuda.gpuarray import GPUArray\n",
    "import pycuda.driver as cuda_driver"
   ]
  },
  {
   "cell_type": "code",
   "execution_count": 5,
   "metadata": {},
   "outputs": [],
   "source": [
    "from matplotlib import pyplot as plt"
   ]
  },
  {
   "cell_type": "code",
   "execution_count": 6,
   "metadata": {},
   "outputs": [],
   "source": [
    "cuda_driver.init()"
   ]
  },
  {
   "cell_type": "code",
   "execution_count": 7,
   "metadata": {},
   "outputs": [],
   "source": [
    "cuda_device = cuda_driver.Device(0)"
   ]
  },
  {
   "cell_type": "code",
   "execution_count": 8,
   "metadata": {},
   "outputs": [
    {
     "name": "stdout",
     "output_type": "stream",
     "text": [
      "Using Tesla P100-PCIE-12GB\n"
     ]
    }
   ],
   "source": [
    "print(\"Using {:s}\".format(cuda_device.name() ))"
   ]
  },
  {
   "cell_type": "markdown",
   "metadata": {},
   "source": [
    "# My first GPU program\n",
    "I will not find $\\pi$ today."
   ]
  },
  {
   "cell_type": "code",
   "execution_count": 9,
   "metadata": {},
   "outputs": [],
   "source": [
    "context = cuda_device.make_context()"
   ]
  },
  {
   "cell_type": "code",
   "execution_count": 10,
   "metadata": {},
   "outputs": [
    {
     "name": "stdout",
     "output_type": "stream",
     "text": [
      "Memory is 11980374016 / 12790923264\n"
     ]
    }
   ],
   "source": [
    "free, total = cuda_driver.mem_get_info()\n",
    "print(\"Memory is {:d} / {:d}\".format(free, total))"
   ]
  },
  {
   "cell_type": "code",
   "execution_count": 13,
   "metadata": {},
   "outputs": [],
   "source": [
    "cuda_kernel = \"\"\"\n",
    "__global__ void addKernel(float* c, float* a, float* b, int cols, int rows) {\n",
    "    int i = blockIdx.x*blockDim.x + threadIdx.x;\n",
    "    int j = blockIdx.y*blockDim.y + threadIdx.y;\n",
    "    int k = i + j*cols;\n",
    "    if (i <cols && j<rows){\n",
    "        c[k] = a[k] + b[k];\n",
    "    }\n",
    "}\n",
    "\"\"\""
   ]
  },
  {
   "cell_type": "code",
   "execution_count": 14,
   "metadata": {},
   "outputs": [],
   "source": [
    "module = cuda_compiler.SourceModule(cuda_kernel)\n",
    "kernel = module.get_function(\"addKernel\")"
   ]
  },
  {
   "cell_type": "code",
   "execution_count": 16,
   "metadata": {},
   "outputs": [],
   "source": [
    "#?np.random.rand"
   ]
  },
  {
   "cell_type": "code",
   "execution_count": 17,
   "metadata": {},
   "outputs": [],
   "source": [
    "nx = 50\n",
    "ny = 25\n",
    "a = np.random.rand(ny,nx).astype(np.float32)\n",
    "b = np.random.rand(ny,nx).astype(np.float32)\n",
    "c = np.empty_like(a)"
   ]
  },
  {
   "cell_type": "code",
   "execution_count": 18,
   "metadata": {},
   "outputs": [],
   "source": [
    "a_gpu = GPUArray(a.shape, np.float32)\n",
    "a_gpu.set(a)"
   ]
  },
  {
   "cell_type": "code",
   "execution_count": 19,
   "metadata": {},
   "outputs": [],
   "source": [
    "b_gpu = GPUArray(b.shape, np.float32)\n",
    "b_gpu.set(b)"
   ]
  },
  {
   "cell_type": "code",
   "execution_count": 20,
   "metadata": {},
   "outputs": [],
   "source": [
    "c_gpu = GPUArray(c.shape, np.float32)"
   ]
  },
  {
   "cell_type": "markdown",
   "metadata": {},
   "source": [
    "// er int-divisjon"
   ]
  },
  {
   "cell_type": "code",
   "execution_count": 30,
   "metadata": {},
   "outputs": [
    {
     "name": "stdout",
     "output_type": "stream",
     "text": [
      "(50, 25, 1)\n",
      "(8, 4, 1)\n",
      "(7, 7, 1)\n"
     ]
    }
   ],
   "source": [
    "block = (8,4,1)\n",
    "domain = (nx, ny, 1)\n",
    "grid = ((nx+7)//8, ((ny+3)//4), 1)\n",
    "\n",
    "print(domain)\n",
    "print(block)\n",
    "print(grid)"
   ]
  },
  {
   "cell_type": "code",
   "execution_count": 32,
   "metadata": {},
   "outputs": [],
   "source": [
    "kernel(c_gpu, a_gpu, b_gpu, np.int32(nx), np.int32(ny), block=block, grid=grid)"
   ]
  },
  {
   "cell_type": "markdown",
   "metadata": {},
   "source": [
    "TODO: gjør om block og grid til matrise i stedet for array"
   ]
  },
  {
   "cell_type": "code",
   "execution_count": 33,
   "metadata": {},
   "outputs": [],
   "source": [
    "#kernel(c_gpu, a_gpu, b_gpu, block=(n, 1, 1), grid=(1,1,1))"
   ]
  },
  {
   "cell_type": "code",
   "execution_count": 34,
   "metadata": {},
   "outputs": [
    {
     "data": {
      "text/plain": [
       "array([[0.87747586, 0.93000567, 0.70452607, ..., 1.5158105 , 1.0512819 ,\n",
       "        1.2757194 ],\n",
       "       [1.0321975 , 1.4312348 , 0.34052086, ..., 0.95820266, 0.4029591 ,\n",
       "        0.9685693 ],\n",
       "       [0.91506505, 0.24454676, 0.7045081 , ..., 1.0405135 , 1.0588319 ,\n",
       "        0.8032522 ],\n",
       "       ...,\n",
       "       [1.2505758 , 1.2784988 , 0.35249567, ..., 1.559103  , 0.819551  ,\n",
       "        1.0523794 ],\n",
       "       [0.55382204, 0.27560672, 0.95499325, ..., 1.1051366 , 0.5642036 ,\n",
       "        0.7426703 ],\n",
       "       [1.1162007 , 1.2920622 , 1.5642563 , ..., 0.9481404 , 1.3351811 ,\n",
       "        0.7071316 ]], dtype=float32)"
      ]
     },
     "execution_count": 34,
     "metadata": {},
     "output_type": "execute_result"
    }
   ],
   "source": [
    "c_gpu.get(c)"
   ]
  },
  {
   "cell_type": "code",
   "execution_count": 36,
   "metadata": {},
   "outputs": [
    {
     "data": {
      "text/plain": [
       "<matplotlib.collections.PolyCollection at 0x7f1c2135f2e8>"
      ]
     },
     "execution_count": 36,
     "metadata": {},
     "output_type": "execute_result"
    },
    {
     "data": {
      "image/png": "[encoded data removed]",
      "text/plain": [
       "<Figure size 432x288 with 2 Axes>"
      ]
     },
     "metadata": {
      "needs_background": "light"
     },
     "output_type": "display_data"
    }
   ],
   "source": [
    "plt.subplot(1,2,1)\n",
    "plt.pcolor(c)\n",
    "plt.subplot(1,2,2)\n",
    "plt.pcolor(a+b)\n"
   ]
  },
  {
   "cell_type": "code",
   "execution_count": null,
   "metadata": {},
   "outputs": [],
   "source": []
  }
 ],
 "metadata": {
  "kernelspec": {
   "display_name": "Python 3",
   "language": "python",
   "name": "python3"
  },
  "language_info": {
   "codemirror_mode": {
    "name": "ipython",
    "version": 3
   },
   "file_extension": ".py",
   "mimetype": "text/x-python",
   "name": "python",
   "nbconvert_exporter": "python",
   "pygments_lexer": "ipython3",
   "version": "3.7.2"
  }
 },
 "nbformat": 4,
 "nbformat_minor": 2
}
